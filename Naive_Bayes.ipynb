{
 "cells": [
  {
   "cell_type": "code",
   "execution_count": null,
   "id": "80af9c00",
   "metadata": {},
   "outputs": [],
   "source": [
    "import pandas as pd\n",
    "import numpy as np\n",
    "from matplotlib import pyplot as plt\n",
    "from sklearn.naive_bayes import GaussianNB\n",
    "from sklearn.metrics import accuracy_score"
   ]
  },
  {
   "cell_type": "code",
   "execution_count": null,
   "id": "dc3790c8",
   "metadata": {},
   "outputs": [],
   "source": [
    "df=pd.read_csv(\"C:/Users/dell/Downloads/Iris.csv\")"
   ]
  },
  {
   "cell_type": "code",
   "execution_count": null,
   "id": "f3cb639d",
   "metadata": {},
   "outputs": [],
   "source": [
    "df.head(5)"
   ]
  },
  {
   "cell_type": "code",
   "execution_count": null,
   "id": "7d83d7ee",
   "metadata": {},
   "outputs": [],
   "source": [
    "df['Species_int']=pd.factorize(df['Species'])[0]"
   ]
  },
  {
   "cell_type": "code",
   "execution_count": null,
   "id": "961264a1",
   "metadata": {},
   "outputs": [],
   "source": [
    "df.head()"
   ]
  },
  {
   "cell_type": "code",
   "execution_count": null,
   "id": "07fb1d63",
   "metadata": {},
   "outputs": [],
   "source": [
    "x=df.drop(['Species_int','Species'], axis=1)"
   ]
  },
  {
   "cell_type": "code",
   "execution_count": null,
   "id": "b7a5fba7",
   "metadata": {},
   "outputs": [],
   "source": [
    "y=df['Species_int']"
   ]
  },
  {
   "cell_type": "code",
   "execution_count": null,
   "id": "dc56781a",
   "metadata": {},
   "outputs": [],
   "source": [
    "from sklearn.model_selection import train_test_split\n",
    "X_train,X_test,y_train,y_test=train_test_split(x,y,test_size=0.2)"
   ]
  },
  {
   "cell_type": "markdown",
   "id": "cb3c156c",
   "metadata": {},
   "source": [
    "### Gaussian Naive Bayes is suitable for continuous data that follows a normal (Gaussian) distribution\n",
    "### and\n",
    "### Multinomial Naive Bayes, on the other hand, is suitable for discrete data, such as counts or frequencies."
   ]
  },
  {
   "cell_type": "code",
   "execution_count": null,
   "id": "dcddd9b7",
   "metadata": {
    "scrolled": true
   },
   "outputs": [],
   "source": [
    "from sklearn.naive_bayes import MultinomialNB\n",
    "gb=GaussianNB()\n",
    "gb.fit(X_train,y_train)\n",
    "gnb=MultinomialNB()\n",
    "gnb.fit(X_train,y_train)\n",
    "\n"
   ]
  },
  {
   "cell_type": "code",
   "execution_count": null,
   "id": "11e41767",
   "metadata": {
    "scrolled": false
   },
   "outputs": [],
   "source": [
    "y_pred1=gnb.predict(X_test)"
   ]
  },
  {
   "cell_type": "code",
   "execution_count": null,
   "id": "a39c3b49",
   "metadata": {},
   "outputs": [],
   "source": [
    "accuracy2=accuracy_score(y_test,y_pred1)"
   ]
  },
  {
   "cell_type": "code",
   "execution_count": null,
   "id": "1c2962c5",
   "metadata": {},
   "outputs": [],
   "source": [
    "accuracy2   ##accuracy for multinomialNB"
   ]
  },
  {
   "cell_type": "code",
   "execution_count": null,
   "id": "4ec97e71",
   "metadata": {},
   "outputs": [],
   "source": [
    "y_pred=gb.predict(X_test)\n",
    "accuracy=accuracy_score(y_test,y_pred)"
   ]
  },
  {
   "cell_type": "code",
   "execution_count": null,
   "id": "bfc04bfe",
   "metadata": {},
   "outputs": [],
   "source": [
    "accuracy  #accuracy for guassianNB"
   ]
  },
  {
   "cell_type": "code",
   "execution_count": null,
   "id": "25ba2865",
   "metadata": {},
   "outputs": [],
   "source": []
  }
 ],
 "metadata": {
  "kernelspec": {
   "display_name": "Python 3 (ipykernel)",
   "language": "python",
   "name": "python3"
  },
  "language_info": {
   "codemirror_mode": {
    "name": "ipython",
    "version": 3
   },
   "file_extension": ".py",
   "mimetype": "text/x-python",
   "name": "python",
   "nbconvert_exporter": "python",
   "pygments_lexer": "ipython3",
   "version": "3.9.12"
  }
 },
 "nbformat": 4,
 "nbformat_minor": 5
}
